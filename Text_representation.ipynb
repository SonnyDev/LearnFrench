{
  "nbformat": 4,
  "nbformat_minor": 0,
  "metadata": {
    "colab": {
      "name": "Text representation",
      "provenance": [],
      "authorship_tag": "ABX9TyNRHUD7FyOhWmOenEkhEm0D",
      "include_colab_link": true
    },
    "kernelspec": {
      "name": "python3",
      "display_name": "Python 3"
    },
    "language_info": {
      "name": "python"
    }
  },
  "cells": [
    {
      "cell_type": "markdown",
      "metadata": {
        "id": "view-in-github",
        "colab_type": "text"
      },
      "source": [
        "<a href=\"https://colab.research.google.com/github/SonnyDev/LearnFrench/blob/master/Text_representation.ipynb\" target=\"_parent\"><img src=\"https://colab.research.google.com/assets/colab-badge.svg\" alt=\"Open In Colab\"/></a>"
      ]
    },
    {
      "cell_type": "code",
      "execution_count": 6,
      "metadata": {
        "colab": {
          "base_uri": "https://localhost:8080/"
        },
        "id": "suq-85-lgEWX",
        "outputId": "995c1e3d-5a27-4882-cff0-70d3c1d98d75"
      },
      "outputs": [
        {
          "output_type": "stream",
          "name": "stdout",
          "text": [
            "[[0. 0. 1. 0.]\n",
            " [0. 0. 0. 1.]\n",
            " [1. 0. 0. 0.]\n",
            " [0. 1. 0. 0.]]\n"
          ]
        }
      ],
      "source": [
        "from sklearn.preprocessing import OneHotEncoder\n",
        "import itertools\n",
        "\n",
        "docs = [\"cat\", \"dog\", \"bat\", \"ate\"]\n",
        "\n",
        "tokens_docs = [doc.split(\" \") for doc in docs]\n",
        "\n",
        "tokens_docs\n",
        "\n",
        "all_tokens = itertools.chain.from_iterable(tokens_docs)\n",
        "word_to_id = {token : idx for idx, token in enumerate(set(all_tokens))}\n",
        "token_ids = [[word_to_id[token] for token in tokens_doc] for tokens_doc in tokens_docs]\n",
        "\n",
        "vec = OneHotEncoder(categories=\"auto\")\n",
        "X = vec.fit_transform(token_ids)\n",
        "print(X.toarray())"
      ]
    }
  ]
}